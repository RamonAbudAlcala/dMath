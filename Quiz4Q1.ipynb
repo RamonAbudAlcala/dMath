{
 "cells": [
  {
   "cell_type": "markdown",
   "id": "e0b28f13",
   "metadata": {},
   "source": [
    "# Prime factorization with working"
   ]
  },
  {
   "cell_type": "markdown",
   "id": "c51d7d83-05be-4d7e-b949-3e0eaaa86fd1",
   "metadata": {},
   "source": [
    "from dMath import Primes\n",
    "from IPython.display import Markdown"
   ]
  },
  {
   "cell_type": "code",
   "execution_count": 2,
   "id": "a0c22bef",
   "metadata": {},
   "outputs": [],
   "source": [
    "def factorisations(n):\n",
    "    prime_factors = Primes(n).factors_list\n",
    "    factorisations = []\n",
    "    old_factorisation = [n]\n",
    "    for factorAndPower in prime_factors:\n",
    "        factor = factorAndPower[0]\n",
    "        power = factorAndPower[1]        \n",
    "        for i in range(power):\n",
    "            new_factorisation = old_factorisation.copy()\n",
    "            factorisations.append(new_factorisation)\n",
    "            new_factor = new_factorisation[-1] // factor\n",
    "            old_factorisation = factorisations[-1].copy()\n",
    "            old_factorisation[-1] = factor\n",
    "            old_factorisation.append(new_factor)\n",
    "    return factorisations"
   ]
  },
  {
   "cell_type": "code",
   "execution_count": 3,
   "id": "8c15e047",
   "metadata": {},
   "outputs": [],
   "source": [
    "def latex_prime_factorization(n):\n",
    "    all_factorisations = factorisations(n)\n",
    "    prime_factors = Primes(n).factors_list\n",
    "    latex  = f\"\\\\(\"\n",
    "    latex += f\"=\".join([f\"\\\\cdot \".join([f\"{factor}\" for factor in factorisation]) for factorisation in all_factorisations])\n",
    "    latex += \"=\"\n",
    "    clean_factors = []\n",
    "    for factor,power in prime_factors:\n",
    "        if power != 1:\n",
    "            clean_factors.append([factor,power])\n",
    "        else:\n",
    "            clean_factors.append([factor,\"\"])\n",
    "    latex += f\"\\\\cdot \".join([f\"{factor}^{{{power}}}\" for factor,power in clean_factors])\n",
    "    latex += \"\\\\)\"\n",
    "    return latex"
   ]
  },
  {
   "cell_type": "markdown",
   "id": "768456ae-cb1e-44be-8e93-464506a37469",
   "metadata": {},
   "source": [
    "Everything working :)"
   ]
  },
  {
   "cell_type": "code",
   "execution_count": 6,
   "id": "e652aa86-d4b8-4690-b08d-e7ad770f6ee0",
   "metadata": {},
   "outputs": [
    {
     "data": {
      "text/plain": [
       "[[2, 1], [5, 1], [7, 2], [11, 2]]"
      ]
     },
     "metadata": {},
     "output_type": "display_data"
    },
    {
     "data": {
      "text/plain": [
       "[[59290],\n",
       " [2, 29645],\n",
       " [2, 5, 5929],\n",
       " [2, 5, 7, 847],\n",
       " [2, 5, 7, 7, 121],\n",
       " [2, 5, 7, 7, 11, 11]]"
      ]
     },
     "metadata": {},
     "output_type": "display_data"
    }
   ],
   "source": [
    "x=59290\n",
    "display(Primes(x).factors_list)\n",
    "display(factorisations(x))    "
   ]
  },
  {
   "cell_type": "markdown",
   "id": "0a64170e-0136-431c-857d-33fc1b2bfb5a",
   "metadata": {},
   "source": [
    "Prime factorization of a number $x$."
   ]
  },
  {
   "cell_type": "code",
   "execution_count": 9,
   "id": "f3abef24-3fe1-4b88-86aa-ba6a7e697921",
   "metadata": {},
   "outputs": [
    {
     "name": "stdout",
     "output_type": "stream",
     "text": [
      "\\(4928373=3\\cdot 1642791=3\\cdot 3\\cdot 547597=3\\cdot 3\\cdot 47\\cdot 11651=3\\cdot 3\\cdot 47\\cdot 61\\cdot 191=3^{2}\\cdot 47^{}\\cdot 61^{}\\cdot 191^{}\\)\n"
     ]
    },
    {
     "data": {
      "text/markdown": [
       "<p>\\(4928373=3\\cdot 1642791=3\\cdot 3\\cdot 547597=3\\cdot 3\\cdot 47\\cdot 11651=3\\cdot 3\\cdot 47\\cdot 61\\cdot 191=3^{2}\\cdot 47^{}\\cdot 61^{}\\cdot 191^{}\\)</p>"
      ],
      "text/plain": [
       "<IPython.core.display.Markdown object>"
      ]
     },
     "metadata": {},
     "output_type": "display_data"
    }
   ],
   "source": [
    "x=4928373\n",
    "print(latex_prime_factorization(x))\n",
    "display(Markdown(f\"<p>{latex_prime_factorization(x)}</p>\"))"
   ]
  }
 ],
 "metadata": {
  "kernelspec": {
   "display_name": "Python 3",
   "language": "python",
   "name": "python3"
  },
  "language_info": {
   "codemirror_mode": {
    "name": "ipython",
    "version": 3
   },
   "file_extension": ".py",
   "mimetype": "text/x-python",
   "name": "python",
   "nbconvert_exporter": "python",
   "pygments_lexer": "ipython3",
   "version": "3.8.2"
  }
 },
 "nbformat": 4,
 "nbformat_minor": 5
}
