{
 "cells": [
  {
   "cell_type": "markdown",
   "metadata": {
    "pycharm": {
     "name": "#%% md\n"
    }
   },
   "source": [
    "# Quiz 4 Question 3"
   ]
  },
  {
   "cell_type": "code",
   "execution_count": 1,
   "metadata": {
    "pycharm": {
     "name": "#%%\n"
    }
   },
   "outputs": [],
   "source": [
    "from dMath import EuclidAlg\n",
    "import TableToHTML as HTML\n",
    "from IPython.display import Markdown"
   ]
  },
  {
   "cell_type": "code",
   "execution_count": 2,
   "metadata": {},
   "outputs": [],
   "source": [
    "def q3answer(a, b, c):\n",
    "    \n",
    "    # Data to write the answer\n",
    "    extended_table = EuclidAlg(a, b).extended_table\n",
    "    gcd = EuclidAlg(a, b).gcd\n",
    "    n = len(extended_table[\"s\"])\n",
    "    parity = (-1) ** (n - 1)\n",
    "    y0 = extended_table[\"s\"][n - 2]\n",
    "    x0 = extended_table[\"t\"][n - 2]\n",
    "    a0 = extended_table[\"s\"][n - 1]\n",
    "    b0 = extended_table[\"t\"][n - 1]\n",
    "    x = extended_table[\"t\"][n - 2] * gcd * parity * (-1)\n",
    "    y = extended_table[\"s\"][n - 2] * gcd * parity\n",
    "    \n",
    "    # Answer in HTML and LaTeX\n",
    "    answer = \"\"\n",
    "    answer += \"<b>(a)</b>\\n\"\n",
    "    answer += HTML.table_to_HTML(extended_table)\n",
    "    answer += \"\\n\"\n",
    "    answer += f\"<p>We conclude that \\\\({y0}\\\\cdot {b0} - {x0}\\\\cdot {a0} = {parity}\\\\)</p>\\n\"\n",
    "    answer += f\"<p>Multiplying by \\\\({gcd * parity}\\\\) get \\\\({a}\\\\cdot {x} + {b}\\\\cdot {y} = {gcd}\\\\)</p>\\n\"\n",
    "    answer += f\"<p>The answer is: \\\\(x={x}\\\\) and \\\\(y={y}\\\\).</p>\\n\"\n",
    "    answer += f\"<b>(b)</b>\"\n",
    "    answer += f\"<p>Using (a) we can interpret the equation \"\n",
    "    answer += f\"\\\\({a}\\\\cdot {x} + {b}\\\\cdot {y} = {gcd}\\\\) modulo \\\\({a}\\\\). We then have:</p>\\n\"\n",
    "    answer += f\"<p>\\\\({a}\\\\cdot {x} + {b}\\\\cdot {y} = {gcd} \\\\mod {a}\\\\)</p>\\n\"\n",
    "    answer += f\"<p>\\\\(0\\\\cdot {x} + {b}\\\\cdot {y} \\\\equiv {gcd} \\\\mod {a}\\\\)</p>\\n\"\n",
    "    answer += f\"<p>\\\\({b}\\\\cdot {y} \\\\equiv {gcd} \\\\mod {a}\\\\) We can then multiply by \\\\({c // gcd}\\\\)</p>\\n\"\n",
    "    answer += f\"<p>\\\\({b}\\\\cdot {y}\\\\cdot {c // gcd} \\\\equiv {gcd}\\\\cdot {c // gcd} \\\\mod {a}\\\\)</p>\\n\"\n",
    "    answer += f\"<p>\\\\({b}\\\\cdot {y * (c // gcd)} \\\\equiv {c} \\\\mod {a}\\\\)</p>\\n\"\n",
    "    answer += f\"<p>So \\\\(t\\\\equiv {y * (c // gcd)}\\\\equiv {(y * (c // gcd)) % a}\\\\mod {a}\\\\)</p>\\n\"\n",
    "    answer += f\"<p>The answer is \\\\(t={(y * (c // gcd)) % a}\\\\).</p>\\n\"\n",
    "    \n",
    "    return answer"
   ]
  },
  {
   "cell_type": "markdown",
   "metadata": {},
   "source": [
    "Choose $a > b$, and $c$ to find\n",
    "\n",
    "(a) integers $x$ and $y$ such that $a\\cdot x + b\\cdot y = \\textsf{gcd}(a,b)$.\n",
    "\n",
    "(b) an integer $t$ such that $b t\\equiv c \\mod a$."
   ]
  },
  {
   "cell_type": "code",
   "execution_count": 3,
   "metadata": {
    "pycharm": {
     "name": "#%%\n"
    }
   },
   "outputs": [
    {
     "data": {
      "text/markdown": [
       "<b>(a)</b>\n",
       "<table>\n",
       "<thead>\n",
       "<tr>\n",
       "<th scope=\"col\">remainders</th>\n",
       "<th scope=\"col\">quotients</th>\n",
       "<th scope=\"col\">s</th>\n",
       "<th scope=\"col\">t</th>\n",
       "</tr>\n",
       "</thead>\n",
       "<tbody>\n",
       "<tr>\n",
       "<td>140</td>\n",
       "<td></td>\n",
       "<td>0</td>\n",
       "<td>1</td>\n",
       "</tr>\n",
       "<tr>\n",
       "<td>47</td>\n",
       "<td></td>\n",
       "<td>1</td>\n",
       "<td>0</td>\n",
       "</tr>\n",
       "<tr>\n",
       "<td>46</td>\n",
       "<td>2</td>\n",
       "<td>2</td>\n",
       "<td>1</td>\n",
       "</tr>\n",
       "<tr>\n",
       "<td>1</td>\n",
       "<td>1</td>\n",
       "<td>3</td>\n",
       "<td>1</td>\n",
       "</tr>\n",
       "<tr>\n",
       "<td>0</td>\n",
       "<td>46</td>\n",
       "<td>140</td>\n",
       "<td>47</td>\n",
       "</tr>\n",
       "</tbody>\n",
       "</table>\n",
       "\n",
       "<p>We conclude that \\(3\\cdot 47 - 1\\cdot 140 = 1\\)</p>\n",
       "<p>Multiplying by \\(1\\) get \\(140\\cdot -1 + 47\\cdot 3 = 1\\)</p>\n",
       "<p>The answer is: \\(x=-1\\) and \\(y=3\\).</p>\n",
       "<b>(b)</b><p>Using (a) we can interpret the equation \\(140\\cdot -1 + 47\\cdot 3 = 1\\) modulo \\(140\\). We then have:</p>\n",
       "<p>\\(140\\cdot -1 + 47\\cdot 3 = 1 \\mod 140\\)</p>\n",
       "<p>\\(0\\cdot -1 + 47\\cdot 3 \\equiv 1 \\mod 140\\)</p>\n",
       "<p>\\(47\\cdot 3 \\equiv 1 \\mod 140\\) We can then multiply by \\(6\\)</p>\n",
       "<p>\\(47\\cdot 3\\cdot 6 \\equiv 1\\cdot 6 \\mod 140\\)</p>\n",
       "<p>\\(47\\cdot 18 \\equiv 6 \\mod 140\\)</p>\n",
       "<p>So \\(t\\equiv 18\\equiv 18\\mod 140\\)</p>\n",
       "<p>The answer is \\(t=18\\).</p>\n"
      ],
      "text/plain": [
       "<IPython.core.display.Markdown object>"
      ]
     },
     "metadata": {},
     "output_type": "display_data"
    }
   ],
   "source": [
    "a = 140\n",
    "b = 47\n",
    "c = 6\n",
    "q3answer_html = q3answer(a,b,c)\n",
    "display(Markdown(q3answer_html))"
   ]
  },
  {
   "cell_type": "markdown",
   "metadata": {},
   "source": [
    "The html code of the answer can be displayed by running the cell below."
   ]
  },
  {
   "cell_type": "code",
   "execution_count": 4,
   "metadata": {
    "pycharm": {
     "name": "#%%\n"
    }
   },
   "outputs": [
    {
     "name": "stdout",
     "output_type": "stream",
     "text": [
      "<b>(a)</b>\n",
      "<table>\n",
      "<thead>\n",
      "<tr>\n",
      "<th scope=\"col\">remainders</th>\n",
      "<th scope=\"col\">quotients</th>\n",
      "<th scope=\"col\">s</th>\n",
      "<th scope=\"col\">t</th>\n",
      "</tr>\n",
      "</thead>\n",
      "<tbody>\n",
      "<tr>\n",
      "<td>140</td>\n",
      "<td></td>\n",
      "<td>0</td>\n",
      "<td>1</td>\n",
      "</tr>\n",
      "<tr>\n",
      "<td>47</td>\n",
      "<td></td>\n",
      "<td>1</td>\n",
      "<td>0</td>\n",
      "</tr>\n",
      "<tr>\n",
      "<td>46</td>\n",
      "<td>2</td>\n",
      "<td>2</td>\n",
      "<td>1</td>\n",
      "</tr>\n",
      "<tr>\n",
      "<td>1</td>\n",
      "<td>1</td>\n",
      "<td>3</td>\n",
      "<td>1</td>\n",
      "</tr>\n",
      "<tr>\n",
      "<td>0</td>\n",
      "<td>46</td>\n",
      "<td>140</td>\n",
      "<td>47</td>\n",
      "</tr>\n",
      "</tbody>\n",
      "</table>\n",
      "\n",
      "<p>We conclude that \\(3\\cdot 47 - 1\\cdot 140 = 1\\)</p>\n",
      "<p>Multiplying by \\(1\\) get \\(140\\cdot -1 + 47\\cdot 3 = 1\\)</p>\n",
      "<p>The answer is: \\(x=-1\\) and \\(y=3\\).</p>\n",
      "<b>(b)</b><p>Using (a) we can interpret the equation \\(140\\cdot -1 + 47\\cdot 3 = 1\\) modulo \\(140\\). We then have:</p>\n",
      "<p>\\(140\\cdot -1 + 47\\cdot 3 = 1 \\mod 140\\)</p>\n",
      "<p>\\(0\\cdot -1 + 47\\cdot 3 \\equiv 1 \\mod 140\\)</p>\n",
      "<p>\\(47\\cdot 3 \\equiv 1 \\mod 140\\) We can then multiply by \\(6\\)</p>\n",
      "<p>\\(47\\cdot 3\\cdot 6 \\equiv 1\\cdot 6 \\mod 140\\)</p>\n",
      "<p>\\(47\\cdot 18 \\equiv 6 \\mod 140\\)</p>\n",
      "<p>So \\(t\\equiv 18\\equiv 18\\mod 140\\)</p>\n",
      "<p>The answer is \\(t=18\\).</p>\n",
      "\n"
     ]
    }
   ],
   "source": [
    "print(q3answer_html)"
   ]
  }
 ],
 "metadata": {
  "authors": [
   {
    "name": "Ramon Abud Alcala"
   }
  ],
  "kernelspec": {
   "display_name": "Python 3",
   "language": "python",
   "name": "python3"
  },
  "language_info": {
   "codemirror_mode": {
    "name": "ipython",
    "version": 3
   },
   "file_extension": ".py",
   "mimetype": "text/x-python",
   "name": "python",
   "nbconvert_exporter": "python",
   "pygments_lexer": "ipython3",
   "version": "3.8.2"
  }
 },
 "nbformat": 4,
 "nbformat_minor": 1
}
