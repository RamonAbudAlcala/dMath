{
 "cells": [
  {
   "cell_type": "markdown",
   "metadata": {
    "pycharm": {
     "name": "#%% md\n"
    }
   },
   "source": [
    "# Quiz 4 Question 3"
   ]
  },
  {
   "cell_type": "markdown",
   "metadata": {
    "pycharm": {
     "name": "#%%\n"
    }
   },
   "source": [
    "from dMath import EuclidAlg\n",
    "from TableToHTML import colDict_to_HTML\n",
    "from IPython.display import Markdown"
   ]
  },
  {
   "cell_type": "code",
   "execution_count": 2,
   "metadata": {},
   "outputs": [],
   "source": [
    "def q3answer(a, b, c):\n",
    "    \n",
    "    # Data to write the answer\n",
    "    extended_table = EuclidAlg(a, b).extended_table\n",
    "    gcd = EuclidAlg(a, b).gcd\n",
    "    n = len(extended_table[\"s\"])\n",
    "    parity = (-1) ** (n - 1)\n",
    "    y0 = extended_table[\"s\"][n - 2]\n",
    "    x0 = extended_table[\"t\"][n - 2]\n",
    "    a0 = extended_table[\"s\"][n - 1]\n",
    "    b0 = extended_table[\"t\"][n - 1]\n",
    "    x = extended_table[\"t\"][n - 2] * gcd * parity * (-1)\n",
    "    y = extended_table[\"s\"][n - 2] * gcd * parity\n",
    "    \n",
    "    # Answer in HTML and LaTeX\n",
    "    answer = \"\"\n",
    "    answer += \"<b>(a)</b>\\n\"\n",
    "    answer += colDict_to_HTML(extended_table)\n",
    "    answer += \"\\n\"\n",
    "    answer += f\"<p>We conclude that \\\\({y0}\\\\cdot {b0} - {x0}\\\\cdot {a0} = {parity}\\\\)</p>\\n\"\n",
    "    answer += f\"<p>Multiplying by \\\\({gcd * parity}\\\\) get \\\\({a}\\\\cdot {x} + {b}\\\\cdot {y} = {gcd}\\\\)</p>\\n\"\n",
    "    answer += f\"<p>The answer is: \\\\(x={x}\\\\) and \\\\(y={y}\\\\).</p>\\n\"\n",
    "    answer += f\"<b>(b)</b>\"\n",
    "    answer += f\"<p>Using (a) we can interpret the equation \"\n",
    "    answer += f\"\\\\({a}\\\\cdot {x} + {b}\\\\cdot {y} = {gcd}\\\\) modulo \\\\({a}\\\\). We then have:</p>\\n\"\n",
    "    answer += f\"<p>\\\\({a}\\\\cdot {x} + {b}\\\\cdot {y} = {gcd} \\\\mod {a}\\\\)</p>\\n\"\n",
    "    answer += f\"<p>\\\\(0\\\\cdot {x} + {b}\\\\cdot {y} \\\\equiv {gcd} \\\\mod {a}\\\\)</p>\\n\"\n",
    "    answer += f\"<p>\\\\({b}\\\\cdot {y} \\\\equiv {gcd} \\\\mod {a}\\\\) We can then multiply by \\\\({c // gcd}\\\\)</p>\\n\"\n",
    "    answer += f\"<p>\\\\({b}\\\\cdot {y}\\\\cdot {c // gcd} \\\\equiv {gcd}\\\\cdot {c // gcd} \\\\mod {a}\\\\)</p>\\n\"\n",
    "    answer += f\"<p>\\\\({b}\\\\cdot {y * (c // gcd)} \\\\equiv {c} \\\\mod {a}\\\\)</p>\\n\"\n",
    "    answer += f\"<p>So \\\\(t\\\\equiv {y * (c // gcd)}\\\\equiv {(y * (c // gcd)) % a}\\\\mod {a}\\\\)</p>\\n\"\n",
    "    answer += f\"<p>The answer is \\\\(t={(y * (c // gcd)) % a}\\\\).</p>\\n\"\n",
    "    \n",
    "    return answer"
   ]
  },
  {
   "cell_type": "markdown",
   "metadata": {},
   "source": [
    "Choose $a > b$, and $c$ with $\\textsf{gcd}(a,b)|c$ to find\n",
    "\n",
    "(a) integers $x$ and $y$ such that $ax + by = \\textsf{gcd}(a,b)$.\n",
    "\n",
    "(b) an integer $t$ such that $b t\\equiv c \\mod a$."
   ]
  },
  {
   "cell_type": "code",
   "execution_count": 3,
   "metadata": {
    "pycharm": {
     "name": "#%%\n"
    }
   },
   "outputs": [
    {
     "data": {
      "text/markdown": [
       "<b>(a)</b>\n",
       "<table>\n",
       "<thead>\n",
       "<tr>\n",
       "<th scope=\"col\">remainders</th>\n",
       "<th scope=\"col\">quotients</th>\n",
       "<th scope=\"col\">s</th>\n",
       "<th scope=\"col\">t</th>\n",
       "</tr>\n",
       "</thead>\n",
       "<tbody>\n",
       "<tr>\n",
       "<td>32158</td>\n",
       "<td></td>\n",
       "<td>0</td>\n",
       "<td>1</td>\n",
       "</tr>\n",
       "<tr>\n",
       "<td>6439</td>\n",
       "<td></td>\n",
       "<td>1</td>\n",
       "<td>0</td>\n",
       "</tr>\n",
       "<tr>\n",
       "<td>6402</td>\n",
       "<td>4</td>\n",
       "<td>4</td>\n",
       "<td>1</td>\n",
       "</tr>\n",
       "<tr>\n",
       "<td>37</td>\n",
       "<td>1</td>\n",
       "<td>5</td>\n",
       "<td>1</td>\n",
       "</tr>\n",
       "<tr>\n",
       "<td>1</td>\n",
       "<td>173</td>\n",
       "<td>869</td>\n",
       "<td>174</td>\n",
       "</tr>\n",
       "<tr>\n",
       "<td>0</td>\n",
       "<td>37</td>\n",
       "<td>32158</td>\n",
       "<td>6439</td>\n",
       "</tr>\n",
       "</tbody>\n",
       "</table>\n",
       "\n",
       "<p>We conclude that \\(869\\cdot 6439 - 174\\cdot 32158 = -1\\)</p>\n",
       "<p>Multiplying by \\(-1\\) get \\(32158\\cdot 174 + 6439\\cdot -869 = 1\\)</p>\n",
       "<p>The answer is: \\(x=174\\) and \\(y=-869\\).</p>\n",
       "<b>(b)</b><p>Using (a) we can interpret the equation \\(32158\\cdot 174 + 6439\\cdot -869 = 1\\) modulo \\(32158\\). We then have:</p>\n",
       "<p>\\(32158\\cdot 174 + 6439\\cdot -869 = 1 \\mod 32158\\)</p>\n",
       "<p>\\(0\\cdot 174 + 6439\\cdot -869 \\equiv 1 \\mod 32158\\)</p>\n",
       "<p>\\(6439\\cdot -869 \\equiv 1 \\mod 32158\\) We can then multiply by \\(4\\)</p>\n",
       "<p>\\(6439\\cdot -869\\cdot 4 \\equiv 1\\cdot 4 \\mod 32158\\)</p>\n",
       "<p>\\(6439\\cdot -3476 \\equiv 4 \\mod 32158\\)</p>\n",
       "<p>So \\(t\\equiv -3476\\equiv 28682\\mod 32158\\)</p>\n",
       "<p>The answer is \\(t=28682\\).</p>\n"
      ],
      "text/plain": [
       "<IPython.core.display.Markdown object>"
      ]
     },
     "metadata": {},
     "output_type": "display_data"
    }
   ],
   "source": [
    "a = 32158\n",
    "b = 6439\n",
    "c = 4\n",
    "q3answer_html = q3answer(a,b,c)\n",
    "display(Markdown(q3answer_html))"
   ]
  },
  {
   "cell_type": "markdown",
   "metadata": {},
   "source": [
    "The html code of the answer can be displayed by running the cell below."
   ]
  },
  {
   "cell_type": "code",
   "execution_count": 4,
   "metadata": {
    "pycharm": {
     "name": "#%%\n"
    }
   },
   "outputs": [
    {
     "name": "stdout",
     "output_type": "stream",
     "text": [
      "<b>(a)</b>\n",
      "<table>\n",
      "<thead>\n",
      "<tr>\n",
      "<th scope=\"col\">remainders</th>\n",
      "<th scope=\"col\">quotients</th>\n",
      "<th scope=\"col\">s</th>\n",
      "<th scope=\"col\">t</th>\n",
      "</tr>\n",
      "</thead>\n",
      "<tbody>\n",
      "<tr>\n",
      "<td>32158</td>\n",
      "<td></td>\n",
      "<td>0</td>\n",
      "<td>1</td>\n",
      "</tr>\n",
      "<tr>\n",
      "<td>6439</td>\n",
      "<td></td>\n",
      "<td>1</td>\n",
      "<td>0</td>\n",
      "</tr>\n",
      "<tr>\n",
      "<td>6402</td>\n",
      "<td>4</td>\n",
      "<td>4</td>\n",
      "<td>1</td>\n",
      "</tr>\n",
      "<tr>\n",
      "<td>37</td>\n",
      "<td>1</td>\n",
      "<td>5</td>\n",
      "<td>1</td>\n",
      "</tr>\n",
      "<tr>\n",
      "<td>1</td>\n",
      "<td>173</td>\n",
      "<td>869</td>\n",
      "<td>174</td>\n",
      "</tr>\n",
      "<tr>\n",
      "<td>0</td>\n",
      "<td>37</td>\n",
      "<td>32158</td>\n",
      "<td>6439</td>\n",
      "</tr>\n",
      "</tbody>\n",
      "</table>\n",
      "\n",
      "<p>We conclude that \\(869\\cdot 6439 - 174\\cdot 32158 = -1\\)</p>\n",
      "<p>Multiplying by \\(-1\\) get \\(32158\\cdot 174 + 6439\\cdot -869 = 1\\)</p>\n",
      "<p>The answer is: \\(x=174\\) and \\(y=-869\\).</p>\n",
      "<b>(b)</b><p>Using (a) we can interpret the equation \\(32158\\cdot 174 + 6439\\cdot -869 = 1\\) modulo \\(32158\\). We then have:</p>\n",
      "<p>\\(32158\\cdot 174 + 6439\\cdot -869 = 1 \\mod 32158\\)</p>\n",
      "<p>\\(0\\cdot 174 + 6439\\cdot -869 \\equiv 1 \\mod 32158\\)</p>\n",
      "<p>\\(6439\\cdot -869 \\equiv 1 \\mod 32158\\) We can then multiply by \\(4\\)</p>\n",
      "<p>\\(6439\\cdot -869\\cdot 4 \\equiv 1\\cdot 4 \\mod 32158\\)</p>\n",
      "<p>\\(6439\\cdot -3476 \\equiv 4 \\mod 32158\\)</p>\n",
      "<p>So \\(t\\equiv -3476\\equiv 28682\\mod 32158\\)</p>\n",
      "<p>The answer is \\(t=28682\\).</p>\n",
      "\n"
     ]
    }
   ],
   "source": [
    "print(q3answer_html)"
   ]
  }
 ],
 "metadata": {
  "authors": [
   {
    "name": "Ramon Abud Alcala"
   }
  ],
  "kernelspec": {
   "display_name": "Python 3",
   "language": "python",
   "name": "python3"
  },
  "language_info": {
   "codemirror_mode": {
    "name": "ipython",
    "version": 3
   },
   "file_extension": ".py",
   "mimetype": "text/x-python",
   "name": "python",
   "nbconvert_exporter": "python",
   "pygments_lexer": "ipython3",
   "version": "3.8.2"
  }
 },
 "nbformat": 4,
 "nbformat_minor": 4
}
