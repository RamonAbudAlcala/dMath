{
 "cells": [
  {
   "cell_type": "markdown",
   "id": "fb3e223c",
   "metadata": {},
   "source": [
    "# Quiz 4 Question 2"
   ]
  },
  {
   "cell_type": "code",
   "execution_count": 1,
   "id": "6ddee113",
   "metadata": {},
   "outputs": [],
   "source": [
    "from dMath import DivAlg, EuclidAlg, Primes, EulerFermatAlg\n",
    "from math import prod\n",
    "\n",
    "from IPython.display import Markdown"
   ]
  },
  {
   "cell_type": "markdown",
   "id": "01e88fb3",
   "metadata": {},
   "source": [
    "### The following functions create strings in $\\LaTeX$.\n",
    "Each function has an example use in the next cell."
   ]
  },
  {
   "cell_type": "markdown",
   "id": "fb9ab048",
   "metadata": {},
   "source": [
    "This function shows the working of calculating $\\varphi(n)$."
   ]
  },
  {
   "cell_type": "code",
   "execution_count": 2,
   "id": "65893067",
   "metadata": {
    "pycharm": {
     "name": "#%%\n"
    }
   },
   "outputs": [],
   "source": [
    "def latex_euler_phi(n):\n",
    "    \n",
    "    # Data\n",
    "    prime_factorisation = Primes(n).factors_list\n",
    "    phi = Primes(n).euler_phi\n",
    "    \n",
    "    # Latex string\n",
    "    latex = \"\"\n",
    "    latex += f\"\\\\(\"\n",
    "    latex += f\"\\\\varphi({n})\"\n",
    "    latex += f\"=\\\\varphi(\"\n",
    "    latex += f\"\\\\cdot \".join([f\"{prime}^{{{power}}}\" for [prime,power] in prime_factorisation])\n",
    "    latex += f\")\"\n",
    "    latex += f\"=\"\n",
    "    latex += f\"\".join([f\"({prime}^{{{power}}}-{prime}^{{{power - 1}}})\" for [prime,power] in prime_factorisation])\n",
    "    latex += f\"=\"\n",
    "    latex += f\"\".join([f\"({prime**power}-{prime**(power - 1)})\" for [prime,power] in prime_factorisation])\n",
    "    latex += f\"=\"\n",
    "    latex += f\"\\\\cdot \".join([f\"{(prime**power) - (prime**(power - 1))}\" for [prime,power] in prime_factorisation])\n",
    "    latex += f\"={phi}\"\n",
    "    latex += f\"\\\\)\"\n",
    "    \n",
    "    return latex"
   ]
  },
  {
   "cell_type": "code",
   "execution_count": 3,
   "id": "23de38c0",
   "metadata": {},
   "outputs": [
    {
     "data": {
      "text/markdown": [
       "<p>\\(\\varphi(12)=\\varphi(2^{2}\\cdot 3^{1})=(2^{2}-2^{1})(3^{1}-3^{0})=(4-2)(3-1)=2\\cdot 2=4\\)</p>"
      ],
      "text/plain": [
       "<IPython.core.display.Markdown object>"
      ]
     },
     "metadata": {},
     "output_type": "display_data"
    }
   ],
   "source": [
    "display(Markdown(f\"<p>{latex_euler_phi(12)}</p>\"))"
   ]
  },
  {
   "cell_type": "code",
   "execution_count": 4,
   "id": "ea6508fe",
   "metadata": {},
   "outputs": [],
   "source": [
    "def latex_binary_expansion(n):\n",
    "    \n",
    "    # Data\n",
    "    binary_expansion = Primes(n).binary_expansion\n",
    "    \n",
    "    # Latex string\n",
    "    latex = \"\"\n",
    "    latex += f\"\\\\({n}=\"\n",
    "    latex += f\"+\".join([f\"{k}\" for k in binary_expansion if k != 0])\n",
    "    latex += f\"\\\\)\"\n",
    "    \n",
    "    return latex"
   ]
  },
  {
   "cell_type": "code",
   "execution_count": 5,
   "id": "1c3e2362",
   "metadata": {},
   "outputs": [
    {
     "data": {
      "text/markdown": [
       "<p>\\(30=16+8+4+2\\)</p>"
      ],
      "text/plain": [
       "<IPython.core.display.Markdown object>"
      ]
     },
     "metadata": {},
     "output_type": "display_data"
    }
   ],
   "source": [
    "display(Markdown(f\"<p>{latex_binary_expansion(30)}</p>\"))"
   ]
  },
  {
   "cell_type": "markdown",
   "id": "5d03ced2",
   "metadata": {},
   "source": [
    "This function shows working of $a$ to the the binary powers of $b$ modulo $n$, one by one in a list."
   ]
  },
  {
   "cell_type": "code",
   "execution_count": 6,
   "id": "0cdd1be1",
   "metadata": {},
   "outputs": [],
   "source": [
    "def latex_binary_powers_list(a,b,n):\n",
    "    \n",
    "    # Data\n",
    "    a0 = a % n\n",
    "    length = len(bin(b)) - 2\n",
    "    \n",
    "    # LaTeX list\n",
    "    latex = []\n",
    "    latex.append(f\"\\\\({a}\\\\equiv {a%n}\\\\mod {n}\\\\)\")\n",
    "    for ith_power in range(1,length):\n",
    "        latex.append(f\"\\\\({a}^{{{2**ith_power}}}\\\\equiv {a0}^2 = {a0**2}\\\\equiv {(a0 ** 2)%n}\\\\mod {n}\\\\)\")\n",
    "        a0 = (a0**2) % n\n",
    "    \n",
    "    return latex"
   ]
  },
  {
   "cell_type": "code",
   "execution_count": 7,
   "id": "e6c542cc",
   "metadata": {},
   "outputs": [
    {
     "data": {
      "text/markdown": [
       "<p>\\(300\\equiv 21\\mod 31\\)</p>"
      ],
      "text/plain": [
       "<IPython.core.display.Markdown object>"
      ]
     },
     "metadata": {},
     "output_type": "display_data"
    },
    {
     "data": {
      "text/markdown": [
       "<p>\\(300^{2}\\equiv 21^2 = 441\\equiv 7\\mod 31\\)</p>"
      ],
      "text/plain": [
       "<IPython.core.display.Markdown object>"
      ]
     },
     "metadata": {},
     "output_type": "display_data"
    },
    {
     "data": {
      "text/markdown": [
       "<p>\\(300^{4}\\equiv 7^2 = 49\\equiv 18\\mod 31\\)</p>"
      ],
      "text/plain": [
       "<IPython.core.display.Markdown object>"
      ]
     },
     "metadata": {},
     "output_type": "display_data"
    }
   ],
   "source": [
    "for line in latex_binary_powers_list(300,4,31):\n",
    "    display(Markdown(f\"<p>{line}</p>\"))"
   ]
  },
  {
   "cell_type": "markdown",
   "id": "b7987e32",
   "metadata": {},
   "source": [
    "The following function shows working for the calculation of a power $a^b$ modulo $n$, where the binary expansion of $b$ is known and all the binary powers modulo $n$ are known for all numbers in the binary expansion of $b$."
   ]
  },
  {
   "cell_type": "code",
   "execution_count": 8,
   "id": "37edb331",
   "metadata": {},
   "outputs": [],
   "source": [
    "def latex_reduce_power(a,b,n):\n",
    "    \n",
    "    # Data\n",
    "    expansion_b = Primes(b).binary_expansion\n",
    "    binary_power_mod_list = EulerFermatAlg(a,b,n).binary_powers[::-1] #reversed\n",
    "    reduced_binary_power_mod_list = [mod for index,mod in enumerate(binary_power_mod_list) if expansion_b[index] != 0]\n",
    "    produ = prod(reduced_binary_power_mod_list)\n",
    "    \n",
    "    # LaTeX\n",
    "    latex = \"\"\n",
    "    latex += f\"{a}^{{{b}}}\\equiv \"\n",
    "    latex += f\"\\\\cdot \".join([f\"{a}^{{{k}}}\" for k in expansion_b if k != 0])\n",
    "    latex += f\"\\\\equiv \"\n",
    "    latex += \"\\\\cdot \".join([f\"{mod}\" for mod in reduced_binary_power_mod_list])\n",
    "    latex += f\"={produ}\\\\equiv {produ % n} \\\\mod {n}\"\n",
    "    latex += f\"\"\n",
    "    \n",
    "    return latex"
   ]
  },
  {
   "cell_type": "code",
   "execution_count": 9,
   "id": "44ff2448",
   "metadata": {},
   "outputs": [
    {
     "data": {
      "text/markdown": [
       "<p>\\(253^{17}\\equiv 253^{16}\\cdot 253^{1}\\equiv 5\\cdot 5=25\\equiv 25 \\mod 31\\)</p>"
      ],
      "text/plain": [
       "<IPython.core.display.Markdown object>"
      ]
     },
     "metadata": {},
     "output_type": "display_data"
    }
   ],
   "source": [
    "display(Markdown(f\"<p>\\\\({latex_reduce_power(253,17,31)}\\\\)</p>\"))"
   ]
  },
  {
   "cell_type": "code",
   "execution_count": 10,
   "id": "c314e7ae",
   "metadata": {},
   "outputs": [],
   "source": [
    "def q2answer(a, b, n):\n",
    "    \n",
    "    # Data\n",
    "    phi = Primes(n).euler_phi\n",
    "    q = DivAlg(b,phi).quotient\n",
    "    r = DivAlg(b,phi).remainder\n",
    "    expansion_r = Primes(r).binary_expansion\n",
    "    expansion_b = Primes(b).binary_expansion\n",
    "    \n",
    "    a_power_r = [f\"{a}^{{{ith_power}}}\" for ith_power in expansion_r if ith_power != 0]\n",
    "    powers_r = [factor for index,factor in enumerate(reversed(EulerFermatAlg(a,r,n).binary_powers)) if expansion_r[index] !=0]\n",
    "    reduced_powers_r = [f\"{factor}\" for factor in powers_r]\n",
    "    produ_r = prod(powers_r)\n",
    "    \n",
    "    a_power_b = [f\"{a}^{{{ith_power}}}\" for ith_power in expansion_b if ith_power != 0]\n",
    "    powers_b = [factor for index,factor in enumerate(reversed(EulerFermatAlg(a,b,n).binary_powers)) if expansion_b[index] !=0]\n",
    "    reduced_powers_b = [f\"{factor}\" for factor in powers_b]\n",
    "    produ_b = prod(powers_b)\n",
    "    \n",
    "    # Answer 1\n",
    "    answer = \"\"\n",
    "    answer += f\"<p><b>Solution 1: Fermat's Little Theorem</b></p>\\n\"\n",
    "    answer += f\"<p>First we check \\\\(\\\\mathsf{{gcd}}({a},{n})={EuclidAlg(a,n).gcd}\\\\) which it is.</p>\\n\"\n",
    "    answer += f\"<p>Next, we are going to reduce the amount of powers we have to calculate:</p>\\n\"\n",
    "    answer += \"\"\"<div style=\"margin-left: 30px;\" class=\"editor-indent\">\\n\"\"\"\n",
    "    answer += f\"<p>Let's calculate {latex_euler_phi(n)} </p>\\n\"\n",
    "    answer += f\"<p>Now divide \\\\({b}\\\\) by \\\\(\\\\varphi({n})\\\\): \\\\({b}={q}\\\\cdot\\\\varphi({n})+{r}\\\\)</p>\\n\"\n",
    "    answer += f\"<p>So, by Fermat's Little Theorem have \"\n",
    "    answer += f\"\\\\({a}^{{{b}}} \\\\equiv {a}^{{({q}\\\\cdot\\\\varphi({n})+{r})}} \\\\equiv {a}^{{{r}}} \\\\mod {n}\\\\).</p>\\n\"\n",
    "    answer += f\"</div>\\n\"\n",
    "    answer += f\"<p>Now, we only need to calculate \\\\({a}^{{{r}}}\\\\). \"\n",
    "    answer += f\"We can write \\\\({r}\\\\) in binary first: {latex_binary_expansion(r)} and calculate the first few powers of \\\\({a}\\\\):</p>\\n\"\n",
    "    answer += \"\"\"<div style=\"margin-left: 30px;\" class=\"editor-indent\">\\n\"\"\"\n",
    "    answer += f\"<p>\"\n",
    "    answer += f\"</p>\\n<p>\".join(latex_binary_powers_list(a,r,n))\n",
    "    answer += f\"</p>\"\n",
    "    answer += f\"</div>\\n\"\n",
    "    answer += f\"<p>So, finally we can write \\\\({a}^{{{b}}}\\\\equiv {latex_reduce_power(a,r,n)}\\\\).</p>\\n\"\n",
    "    \n",
    "    # Answer 2\n",
    "    answer += f\"<p><b>Solution 2: Binary power method only</b></p>\\n\"\n",
    "    answer += f\"<p>Write \\\\({b}\\\\) in binary {latex_binary_expansion(b)}. Then calculate all powers needed:</p>\\n\"\n",
    "    answer += \"\"\"<div style=\"margin-left: 30px;\" class=\"editor-indent\">\\n\"\"\"\n",
    "    answer += f\"<p>\"\n",
    "    answer += f\"</p>\\n<p>\".join(latex_binary_powers_list(a,b,n))\n",
    "    answer += f\"</p>\"\n",
    "    answer += f\"</div>\\n\"\n",
    "    answer += f\"<p>So we have \\\\({latex_reduce_power(a,b,n)}\\\\).</p>\\n\"\n",
    "    return answer"
   ]
  },
  {
   "cell_type": "markdown",
   "id": "4dcda7c8",
   "metadata": {},
   "source": [
    "Choose $a$, $b$, and $n$ such that $\\mathsf{gcd}(a,n)=1$ to calculate $a^b$ modulo $n$."
   ]
  },
  {
   "cell_type": "code",
   "execution_count": 11,
   "id": "52571ee2",
   "metadata": {
    "pycharm": {
     "name": "#%%\n"
    }
   },
   "outputs": [
    {
     "data": {
      "text/markdown": [
       "<p><b>Solution 1: Fermat's Little Theorem</b></p>\n",
       "<p>First we check \\(\\mathsf{gcd}(5,68)=1\\) which it is.</p>\n",
       "<p>Next, we are going to reduce the amount of powers we have to calculate:</p>\n",
       "<div style=\"margin-left: 30px;\" class=\"editor-indent\">\n",
       "<p>Let's calculate \\(\\varphi(68)=\\varphi(2^{2}\\cdot 17^{1})=(2^{2}-2^{1})(17^{1}-17^{0})=(4-2)(17-1)=2\\cdot 16=32\\) </p>\n",
       "<p>Now divide \\(3\\) by \\(\\varphi(68)\\): \\(3=0\\cdot\\varphi(68)+3\\)</p>\n",
       "<p>So, by Fermat's Little Theorem have \\(5^{3} \\equiv 5^{(0\\cdot\\varphi(68)+3)} \\equiv 5^{3} \\mod 68\\).</p>\n",
       "</div>\n",
       "<p>Now, we only need to calculate \\(5^{3}\\). We can write \\(3\\) in binary first: \\(3=2+1\\) and calculate the first few powers of \\(5\\):</p>\n",
       "<div style=\"margin-left: 30px;\" class=\"editor-indent\">\n",
       "<p>\\(5\\equiv 5\\mod 68\\)</p>\n",
       "<p>\\(5^{2}\\equiv 5^2 = 25\\equiv 25\\mod 68\\)</p></div>\n",
       "<p>So, finally we can write \\(5^{3}\\equiv 5^{3}\\equiv 5^{2}\\cdot 5^{1}\\equiv 25\\cdot 5=125\\equiv 57 \\mod 68\\).</p>\n",
       "<p><b>Solution 2: Binary power method only</b></p>\n",
       "<p>Write \\(3\\) in binary \\(3=2+1\\). Then calculate all powers needed:</p>\n",
       "<div style=\"margin-left: 30px;\" class=\"editor-indent\">\n",
       "<p>\\(5\\equiv 5\\mod 68\\)</p>\n",
       "<p>\\(5^{2}\\equiv 5^2 = 25\\equiv 25\\mod 68\\)</p></div>\n",
       "<p>So we have \\(5^{3}\\equiv 5^{2}\\cdot 5^{1}\\equiv 25\\cdot 5=125\\equiv 57 \\mod 68\\).</p>\n"
      ],
      "text/plain": [
       "<IPython.core.display.Markdown object>"
      ]
     },
     "metadata": {},
     "output_type": "display_data"
    }
   ],
   "source": [
    "a = 5\n",
    "b = 3\n",
    "n = 68\n",
    "q2answer_html = q2answer(a,b,n)\n",
    "display(Markdown(q2answer_html))"
   ]
  },
  {
   "cell_type": "markdown",
   "id": "0b46de07",
   "metadata": {},
   "source": [
    "The html code of the answer can be displayed by running the cell below."
   ]
  },
  {
   "cell_type": "code",
   "execution_count": 12,
   "id": "c0673c5d",
   "metadata": {},
   "outputs": [
    {
     "name": "stdout",
     "output_type": "stream",
     "text": [
      "<p><b>Solution 1: Fermat's Little Theorem</b></p>\n",
      "<p>First we check \\(\\mathsf{gcd}(5,68)=1\\) which it is.</p>\n",
      "<p>Next, we are going to reduce the amount of powers we have to calculate:</p>\n",
      "<div style=\"margin-left: 30px;\" class=\"editor-indent\">\n",
      "<p>Let's calculate \\(\\varphi(68)=\\varphi(2^{2}\\cdot 17^{1})=(2^{2}-2^{1})(17^{1}-17^{0})=(4-2)(17-1)=2\\cdot 16=32\\) </p>\n",
      "<p>Now divide \\(3\\) by \\(\\varphi(68)\\): \\(3=0\\cdot\\varphi(68)+3\\)</p>\n",
      "<p>So, by Fermat's Little Theorem have \\(5^{3} \\equiv 5^{(0\\cdot\\varphi(68)+3)} \\equiv 5^{3} \\mod 68\\).</p>\n",
      "</div>\n",
      "<p>Now, we only need to calculate \\(5^{3}\\). We can write \\(3\\) in binary first: \\(3=2+1\\) and calculate the first few powers of \\(5\\):</p>\n",
      "<div style=\"margin-left: 30px;\" class=\"editor-indent\">\n",
      "<p>\\(5\\equiv 5\\mod 68\\)</p>\n",
      "<p>\\(5^{2}\\equiv 5^2 = 25\\equiv 25\\mod 68\\)</p></div>\n",
      "<p>So, finally we can write \\(5^{3}\\equiv 5^{3}\\equiv 5^{2}\\cdot 5^{1}\\equiv 25\\cdot 5=125\\equiv 57 \\mod 68\\).</p>\n",
      "<p><b>Solution 2: Binary power method only</b></p>\n",
      "<p>Write \\(3\\) in binary \\(3=2+1\\). Then calculate all powers needed:</p>\n",
      "<div style=\"margin-left: 30px;\" class=\"editor-indent\">\n",
      "<p>\\(5\\equiv 5\\mod 68\\)</p>\n",
      "<p>\\(5^{2}\\equiv 5^2 = 25\\equiv 25\\mod 68\\)</p></div>\n",
      "<p>So we have \\(5^{3}\\equiv 5^{2}\\cdot 5^{1}\\equiv 25\\cdot 5=125\\equiv 57 \\mod 68\\).</p>\n",
      "\n"
     ]
    }
   ],
   "source": [
    "print(q2answer(a,b,n))"
   ]
  }
 ],
 "metadata": {
  "authors": [
   {
    "name": "Ramon Abud Alcala"
   }
  ],
  "kernelspec": {
   "display_name": "Python 3",
   "language": "python",
   "name": "python3"
  },
  "language_info": {
   "codemirror_mode": {
    "name": "ipython",
    "version": 3
   },
   "file_extension": ".py",
   "mimetype": "text/x-python",
   "name": "python",
   "nbconvert_exporter": "python",
   "pygments_lexer": "ipython3",
   "version": "3.8.2"
  }
 },
 "nbformat": 4,
 "nbformat_minor": 5
}
