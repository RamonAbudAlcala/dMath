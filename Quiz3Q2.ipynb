{
 "cells": [
  {
   "cell_type": "markdown",
   "id": "4f959e63-59e3-44bf-8e41-e90adab4cce6",
   "metadata": {},
   "source": [
    "# Number conversions"
   ]
  },
  {
   "cell_type": "markdown",
   "id": "9470bec0-b79c-4c66-807d-18338e3fce49",
   "metadata": {},
   "source": [
    "Convert the decimal number $x$ to base $b$. You must show all working."
   ]
  },
  {
   "cell_type": "markdown",
   "id": "2196aaae-81eb-4805-af57-eacb72b02ad9",
   "metadata": {},
   "source": [
    "from dMath import DecimalConversion\n",
    "from TableToHTML import rowList_to_HTML\n",
    "from IPython.display import Markdown"
   ]
  },
  {
   "cell_type": "code",
   "execution_count": 2,
   "id": "9a11904b-8cd6-4b3f-90c7-44c2e787821c",
   "metadata": {},
   "outputs": [],
   "source": [
    "x=41080\n",
    "b=16"
   ]
  },
  {
   "cell_type": "code",
   "execution_count": 3,
   "id": "11967975-a84d-4f1c-8ce8-be40e90ee773",
   "metadata": {},
   "outputs": [
    {
     "data": {
      "text/plain": [
       "[(41080, ''), (2567, 8), (160, 7), (10, 0), (0, 10)]"
      ]
     },
     "metadata": {},
     "output_type": "display_data"
    }
   ],
   "source": [
    "(rowList,solution) = DecimalConversion.dec_to_base(x,b)\n",
    "display(rowList)"
   ]
  },
  {
   "cell_type": "code",
   "execution_count": 4,
   "id": "12dccca6-3e0a-4f1b-b811-d6b5decbb6c4",
   "metadata": {},
   "outputs": [
    {
     "data": {
      "text/markdown": [
       "<p>Answer: \\(41080_{10} = 10078_{16}\\)</p>\n",
       "<table>\n",
       "<thead>\n",
       "<tr>\n",
       "<th scope=\"col\">41080</th>\n",
       "<th scope=\"col\"></th>\n",
       "</tr>\n",
       "</thead>\n",
       "<tbody>\n",
       "<tr>\n",
       "<td>2567</td>\n",
       "<td>8</td>\n",
       "</tr>\n",
       "<tr>\n",
       "<td>160</td>\n",
       "<td>7</td>\n",
       "</tr>\n",
       "<tr>\n",
       "<td>10</td>\n",
       "<td>0</td>\n",
       "</tr>\n",
       "<tr>\n",
       "<td>0</td>\n",
       "<td>10</td>\n",
       "</tr>\n",
       "</tbody>\n",
       "</table>\n"
      ],
      "text/plain": [
       "<IPython.core.display.Markdown object>"
      ]
     },
     "metadata": {},
     "output_type": "display_data"
    },
    {
     "name": "stdout",
     "output_type": "stream",
     "text": [
      "<p>Answer: \\(41080_{10} = 10078_{16}\\)</p>\n",
      "<table>\n",
      "<thead>\n",
      "<tr>\n",
      "<th scope=\"col\">41080</th>\n",
      "<th scope=\"col\"></th>\n",
      "</tr>\n",
      "</thead>\n",
      "<tbody>\n",
      "<tr>\n",
      "<td>2567</td>\n",
      "<td>8</td>\n",
      "</tr>\n",
      "<tr>\n",
      "<td>160</td>\n",
      "<td>7</td>\n",
      "</tr>\n",
      "<tr>\n",
      "<td>10</td>\n",
      "<td>0</td>\n",
      "</tr>\n",
      "<tr>\n",
      "<td>0</td>\n",
      "<td>10</td>\n",
      "</tr>\n",
      "</tbody>\n",
      "</table>\n",
      "\n"
     ]
    }
   ],
   "source": [
    "answer = f\"<p>Answer: \\\\({x}_{{10}} = {solution}_{{{b}}}\\\\)</p>\\n\" + rowList_to_HTML(rowList)\n",
    "display(Markdown(answer))\n",
    "print(answer)"
   ]
  }
 ],
 "metadata": {
  "kernelspec": {
   "display_name": "Python 3",
   "language": "python",
   "name": "python3"
  },
  "language_info": {
   "codemirror_mode": {
    "name": "ipython",
    "version": 3
   },
   "file_extension": ".py",
   "mimetype": "text/x-python",
   "name": "python",
   "nbconvert_exporter": "python",
   "pygments_lexer": "ipython3",
   "version": "3.8.2"
  }
 },
 "nbformat": 4,
 "nbformat_minor": 5
}
